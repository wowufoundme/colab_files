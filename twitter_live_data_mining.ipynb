{
  "nbformat": 4,
  "nbformat_minor": 0,
  "metadata": {
    "colab": {
      "name": "twitter live data mining.ipynb",
      "version": "0.3.2",
      "provenance": [],
      "collapsed_sections": [],
      "include_colab_link": true
    },
    "kernelspec": {
      "name": "python3",
      "display_name": "Python 3"
    }
  },
  "cells": [
    {
      "cell_type": "markdown",
      "metadata": {
        "id": "view-in-github",
        "colab_type": "text"
      },
      "source": [
        "<a href=\"https://colab.research.google.com/github/wowufoundme/colab_files/blob/master/twitter_live_data_mining.ipynb\" target=\"_parent\"><img src=\"https://colab.research.google.com/assets/colab-badge.svg\" alt=\"Open In Colab\"/></a>"
      ]
    },
    {
      "metadata": {
        "id": "8Sie_VLHesuI",
        "colab_type": "code",
        "outputId": "6e8087dd-e507-44f0-beda-14fb4f0f8a75",
        "colab": {
          "base_uri": "https://localhost:8080/",
          "height": 340
        }
      },
      "cell_type": "code",
      "source": [
        "# Install tweepy module on Colab notebook\n",
        "!pip install tweepy"
      ],
      "execution_count": 0,
      "outputs": [
        {
          "output_type": "stream",
          "text": [
            "Collecting tweepy\n",
            "  Downloading https://files.pythonhosted.org/packages/d5/5f/daac4b4e9b30d7d2a6fdd16a880ff79f27918fe388e4dfc1983dec3a9876/tweepy-3.7.0-py2.py3-none-any.whl\n",
            "Requirement already satisfied: requests-oauthlib>=0.7.0 in /usr/local/lib/python3.6/dist-packages (from tweepy) (1.0.0)\n",
            "Collecting PySocks>=1.5.7 (from tweepy)\n",
            "\u001b[?25l  Downloading https://files.pythonhosted.org/packages/53/12/6bf1d764f128636cef7408e8156b7235b150ea31650d0260969215bb8e7d/PySocks-1.6.8.tar.gz (283kB)\n",
            "\u001b[K    100% |████████████████████████████████| 286kB 20.4MB/s \n",
            "\u001b[?25hRequirement already satisfied: requests>=2.11.1 in /usr/local/lib/python3.6/dist-packages (from tweepy) (2.18.4)\n",
            "Requirement already satisfied: six>=1.10.0 in /usr/local/lib/python3.6/dist-packages (from tweepy) (1.11.0)\n",
            "Requirement already satisfied: oauthlib>=0.6.2 in /usr/local/lib/python3.6/dist-packages (from requests-oauthlib>=0.7.0->tweepy) (2.1.0)\n",
            "Requirement already satisfied: chardet<3.1.0,>=3.0.2 in /usr/local/lib/python3.6/dist-packages (from requests>=2.11.1->tweepy) (3.0.4)\n",
            "Requirement already satisfied: certifi>=2017.4.17 in /usr/local/lib/python3.6/dist-packages (from requests>=2.11.1->tweepy) (2018.10.15)\n",
            "Requirement already satisfied: idna<2.7,>=2.5 in /usr/local/lib/python3.6/dist-packages (from requests>=2.11.1->tweepy) (2.6)\n",
            "Requirement already satisfied: urllib3<1.23,>=1.21.1 in /usr/local/lib/python3.6/dist-packages (from requests>=2.11.1->tweepy) (1.22)\n",
            "Building wheels for collected packages: PySocks\n",
            "  Running setup.py bdist_wheel for PySocks ... \u001b[?25l-\b \bdone\n",
            "\u001b[?25h  Stored in directory: /root/.cache/pip/wheels/22/5c/b5/12e0dfdfa85bea67b23628b6425fae715c687e947a45ee3df9\n",
            "Successfully built PySocks\n",
            "Installing collected packages: PySocks, tweepy\n",
            "Successfully installed PySocks-1.6.8 tweepy-3.7.0\n"
          ],
          "name": "stdout"
        }
      ]
    },
    {
      "metadata": {
        "id": "VscTZG4QeulI",
        "colab_type": "code",
        "colab": {}
      },
      "cell_type": "code",
      "source": [
        "# Import tweepy modules and services\n",
        "import tweepy as tw\n",
        "from tweepy.streaming import StreamListener\n",
        "from tweepy import OAuthHandler, Stream"
      ],
      "execution_count": 0,
      "outputs": []
    },
    {
      "metadata": {
        "id": "z-nDy1JyfMM9",
        "colab_type": "code",
        "colab": {}
      },
      "cell_type": "code",
      "source": [
        "# Creating OAuthApplications Keys\n",
        "\n",
        "access_token = \"711648387313967104-LGKdDubK41NHSsAYDgGiEMOiY9dwdOj\"\n",
        "access_token_secret = \"PG6lfyrLD71aDZpNxwKLCmaf3eXx9PPtpcdcw9UR3xQFN\"\n",
        "consumer_key = \"akXesY6yBWznWXu1h1qXA13ND\"\n",
        "consumer_secret = \"BSBgOdIXD5czoCw2FFHkZUyIp3yb67XQEXd1hv3OHfNK9wHSuc\""
      ],
      "execution_count": 0,
      "outputs": []
    },
    {
      "metadata": {
        "id": "Wknvxn5Cf1Co",
        "colab_type": "code",
        "colab": {}
      },
      "cell_type": "code",
      "source": [
        "# This is a basic listener that just prints received tweets\n",
        "class StdOutListener(StreamListener):\n",
        "  def on_data(self, data):\n",
        "    print(data)\n",
        "    return True\n",
        "  def on_error(self, status):\n",
        "    print(status)"
      ],
      "execution_count": 0,
      "outputs": []
    },
    {
      "metadata": {
        "id": "xeQSQ-CVheBd",
        "colab_type": "code",
        "colab": {}
      },
      "cell_type": "code",
      "source": [
        "if __name__ == '__main__':\n",
        "  l = StdOutListener()\n",
        "  auth = OAuthHandler(consumer_key, consumer_secret)\n",
        "  auth.set_access_token(access_token, access_token_secret)\n",
        "  stream = Stream(auth, l)\n",
        "  api = tw.API(auth)"
      ],
      "execution_count": 0,
      "outputs": []
    },
    {
      "metadata": {
        "id": "yVvvGYetjQd9",
        "colab_type": "code",
        "outputId": "7fa591e9-0e7b-448c-9928-db1ba3ab5b75",
        "colab": {
          "base_uri": "https://localhost:8080/",
          "height": 54
        }
      },
      "cell_type": "code",
      "source": [
        "user = api.me()\n",
        "print(user)"
      ],
      "execution_count": 0,
      "outputs": [
        {
          "output_type": "stream",
          "text": [
            "User(_api=<tweepy.api.API object at 0x7fdf4dead668>, _json={'id': 711648387313967104, 'id_str': '711648387313967104', 'name': 'Shubhkirti Sharma', 'screen_name': 'xKILLERBABAx', 'location': 'Chandigarh, India', 'profile_location': {'id': '22aecab5acddee3b', 'url': 'https://api.twitter.com/1.1/geo/id/22aecab5acddee3b.json', 'place_type': 'unknown', 'name': 'Chandigarh, India', 'full_name': 'Chandigarh, India', 'country_code': '', 'country': '', 'contained_within': [], 'bounding_box': None, 'attributes': {}}, 'description': 'Digital Designer & Front End Developer', 'url': None, 'entities': {'description': {'urls': []}}, 'protected': False, 'followers_count': 25, 'friends_count': 126, 'listed_count': 0, 'created_at': 'Sun Mar 20 20:19:32 +0000 2016', 'favourites_count': 350, 'utc_offset': None, 'time_zone': None, 'geo_enabled': False, 'verified': False, 'statuses_count': 102, 'lang': 'en', 'status': {'created_at': 'Mon Nov 26 20:27:33 +0000 2018', 'id': 1067152903742414848, 'id_str': '1067152903742414848', 'text': 'Life is a crazy ride, and nothing is guaranteed. 🔥\\n\\n- Eminem. @ KFC https://t.co/ronwwuQG9f', 'truncated': False, 'entities': {'hashtags': [], 'symbols': [], 'user_mentions': [], 'urls': [{'url': 'https://t.co/ronwwuQG9f', 'expanded_url': 'https://www.instagram.com/p/BqqCzqRhFAd/?utm_source=ig_twitter_share&igshid=1d3tyn7sd64i6', 'display_url': 'instagram.com/p/BqqCzqRhFAd/…', 'indices': [68, 91]}]}, 'source': '<a href=\"http://instagram.com\" rel=\"nofollow\">Instagram</a>', 'in_reply_to_status_id': None, 'in_reply_to_status_id_str': None, 'in_reply_to_user_id': None, 'in_reply_to_user_id_str': None, 'in_reply_to_screen_name': None, 'geo': None, 'coordinates': None, 'place': None, 'contributors': None, 'is_quote_status': False, 'retweet_count': 0, 'favorite_count': 0, 'favorited': False, 'retweeted': False, 'possibly_sensitive': False, 'lang': 'en'}, 'contributors_enabled': False, 'is_translator': False, 'is_translation_enabled': False, 'profile_background_color': '000000', 'profile_background_image_url': 'http://abs.twimg.com/images/themes/theme1/bg.png', 'profile_background_image_url_https': 'https://abs.twimg.com/images/themes/theme1/bg.png', 'profile_background_tile': False, 'profile_image_url': 'http://pbs.twimg.com/profile_images/730408115640750081/NdW4mYhn_normal.jpg', 'profile_image_url_https': 'https://pbs.twimg.com/profile_images/730408115640750081/NdW4mYhn_normal.jpg', 'profile_banner_url': 'https://pbs.twimg.com/profile_banners/711648387313967104/1527223757', 'profile_link_color': '91D2FA', 'profile_sidebar_border_color': '000000', 'profile_sidebar_fill_color': '000000', 'profile_text_color': '000000', 'profile_use_background_image': False, 'has_extended_profile': True, 'default_profile': False, 'default_profile_image': False, 'following': False, 'follow_request_sent': False, 'notifications': False, 'translator_type': 'none', 'suspended': False, 'needs_phone_verification': False}, id=711648387313967104, id_str='711648387313967104', name='Shubhkirti Sharma', screen_name='xKILLERBABAx', location='Chandigarh, India', profile_location={'id': '22aecab5acddee3b', 'url': 'https://api.twitter.com/1.1/geo/id/22aecab5acddee3b.json', 'place_type': 'unknown', 'name': 'Chandigarh, India', 'full_name': 'Chandigarh, India', 'country_code': '', 'country': '', 'contained_within': [], 'bounding_box': None, 'attributes': {}}, description='Digital Designer & Front End Developer', url=None, entities={'description': {'urls': []}}, protected=False, followers_count=25, friends_count=126, listed_count=0, created_at=datetime.datetime(2016, 3, 20, 20, 19, 32), favourites_count=350, utc_offset=None, time_zone=None, geo_enabled=False, verified=False, statuses_count=102, lang='en', status=Status(_api=<tweepy.api.API object at 0x7fdf4dead668>, _json={'created_at': 'Mon Nov 26 20:27:33 +0000 2018', 'id': 1067152903742414848, 'id_str': '1067152903742414848', 'text': 'Life is a crazy ride, and nothing is guaranteed. 🔥\\n\\n- Eminem. @ KFC https://t.co/ronwwuQG9f', 'truncated': False, 'entities': {'hashtags': [], 'symbols': [], 'user_mentions': [], 'urls': [{'url': 'https://t.co/ronwwuQG9f', 'expanded_url': 'https://www.instagram.com/p/BqqCzqRhFAd/?utm_source=ig_twitter_share&igshid=1d3tyn7sd64i6', 'display_url': 'instagram.com/p/BqqCzqRhFAd/…', 'indices': [68, 91]}]}, 'source': '<a href=\"http://instagram.com\" rel=\"nofollow\">Instagram</a>', 'in_reply_to_status_id': None, 'in_reply_to_status_id_str': None, 'in_reply_to_user_id': None, 'in_reply_to_user_id_str': None, 'in_reply_to_screen_name': None, 'geo': None, 'coordinates': None, 'place': None, 'contributors': None, 'is_quote_status': False, 'retweet_count': 0, 'favorite_count': 0, 'favorited': False, 'retweeted': False, 'possibly_sensitive': False, 'lang': 'en'}, created_at=datetime.datetime(2018, 11, 26, 20, 27, 33), id=1067152903742414848, id_str='1067152903742414848', text='Life is a crazy ride, and nothing is guaranteed. 🔥\\n\\n- Eminem. @ KFC https://t.co/ronwwuQG9f', truncated=False, entities={'hashtags': [], 'symbols': [], 'user_mentions': [], 'urls': [{'url': 'https://t.co/ronwwuQG9f', 'expanded_url': 'https://www.instagram.com/p/BqqCzqRhFAd/?utm_source=ig_twitter_share&igshid=1d3tyn7sd64i6', 'display_url': 'instagram.com/p/BqqCzqRhFAd/…', 'indices': [68, 91]}]}, source='Instagram', source_url='http://instagram.com', in_reply_to_status_id=None, in_reply_to_status_id_str=None, in_reply_to_user_id=None, in_reply_to_user_id_str=None, in_reply_to_screen_name=None, geo=None, coordinates=None, place=None, contributors=None, is_quote_status=False, retweet_count=0, favorite_count=0, favorited=False, retweeted=False, possibly_sensitive=False, lang='en'), contributors_enabled=False, is_translator=False, is_translation_enabled=False, profile_background_color='000000', profile_background_image_url='http://abs.twimg.com/images/themes/theme1/bg.png', profile_background_image_url_https='https://abs.twimg.com/images/themes/theme1/bg.png', profile_background_tile=False, profile_image_url='http://pbs.twimg.com/profile_images/730408115640750081/NdW4mYhn_normal.jpg', profile_image_url_https='https://pbs.twimg.com/profile_images/730408115640750081/NdW4mYhn_normal.jpg', profile_banner_url='https://pbs.twimg.com/profile_banners/711648387313967104/1527223757', profile_link_color='91D2FA', profile_sidebar_border_color='000000', profile_sidebar_fill_color='000000', profile_text_color='000000', profile_use_background_image=False, has_extended_profile=True, default_profile=False, default_profile_image=False, following=False, follow_request_sent=False, notifications=False, translator_type='none', suspended=False, needs_phone_verification=False)\n"
          ],
          "name": "stdout"
        }
      ]
    },
    {
      "metadata": {
        "id": "DVx4LobWjm2n",
        "colab_type": "code",
        "outputId": "258e0166-8528-41fb-ae25-f96d599c0cc3",
        "colab": {
          "base_uri": "https://localhost:8080/",
          "height": 469
        }
      },
      "cell_type": "code",
      "source": [
        "delegates = [\"mauriciomacri\", \n",
        "             \"narendramodi\", \n",
        "             \"PutinRF_Eng\", \n",
        "             \"BarackObama\", \n",
        "             \"realDonaldTrump\", \n",
        "             \"_Kim_Jongun\", \n",
        "             \"David_Cameron\",\n",
        "             \"JustinTrudeau\"\n",
        "]\n",
        "tweets = {}\n",
        "\n",
        "for delegate in delegates:\n",
        "  tweets[delegate] = []\n",
        "  tweet = api.user_timeline(screen_name=delegate, count=200)\n",
        "  tmp = [tw.text for tw in tweet]\n",
        "  tweets[delegate] = tmp"
      ],
      "execution_count": 0,
      "outputs": [
        {
          "output_type": "error",
          "ename": "TweepError",
          "evalue": "ignored",
          "traceback": [
            "\u001b[0;31m---------------------------------------------------------------------------\u001b[0m",
            "\u001b[0;31mTweepError\u001b[0m                                Traceback (most recent call last)",
            "\u001b[0;32m<ipython-input-8-38efaec7f8ab>\u001b[0m in \u001b[0;36m<module>\u001b[0;34m()\u001b[0m\n\u001b[1;32m     12\u001b[0m \u001b[0;32mfor\u001b[0m \u001b[0mdelegate\u001b[0m \u001b[0;32min\u001b[0m \u001b[0mdelegates\u001b[0m\u001b[0;34m:\u001b[0m\u001b[0;34m\u001b[0m\u001b[0;34m\u001b[0m\u001b[0m\n\u001b[1;32m     13\u001b[0m   \u001b[0mtweets\u001b[0m\u001b[0;34m[\u001b[0m\u001b[0mdelegate\u001b[0m\u001b[0;34m]\u001b[0m \u001b[0;34m=\u001b[0m \u001b[0;34m[\u001b[0m\u001b[0;34m]\u001b[0m\u001b[0;34m\u001b[0m\u001b[0;34m\u001b[0m\u001b[0m\n\u001b[0;32m---> 14\u001b[0;31m   \u001b[0mtweet\u001b[0m \u001b[0;34m=\u001b[0m \u001b[0mapi\u001b[0m\u001b[0;34m.\u001b[0m\u001b[0muser_timeline\u001b[0m\u001b[0;34m(\u001b[0m\u001b[0mscreen_name\u001b[0m\u001b[0;34m=\u001b[0m\u001b[0mdelegate\u001b[0m\u001b[0;34m,\u001b[0m \u001b[0mcount\u001b[0m\u001b[0;34m=\u001b[0m\u001b[0;36m200\u001b[0m\u001b[0;34m)\u001b[0m\u001b[0;34m\u001b[0m\u001b[0;34m\u001b[0m\u001b[0m\n\u001b[0m\u001b[1;32m     15\u001b[0m   \u001b[0mtmp\u001b[0m \u001b[0;34m=\u001b[0m \u001b[0;34m[\u001b[0m\u001b[0mtw\u001b[0m\u001b[0;34m.\u001b[0m\u001b[0mtext\u001b[0m \u001b[0;32mfor\u001b[0m \u001b[0mtw\u001b[0m \u001b[0;32min\u001b[0m \u001b[0mtweet\u001b[0m\u001b[0;34m]\u001b[0m\u001b[0;34m\u001b[0m\u001b[0;34m\u001b[0m\u001b[0m\n\u001b[1;32m     16\u001b[0m   \u001b[0mtweets\u001b[0m\u001b[0;34m[\u001b[0m\u001b[0mdelegate\u001b[0m\u001b[0;34m]\u001b[0m \u001b[0;34m=\u001b[0m \u001b[0mtmp\u001b[0m\u001b[0;34m\u001b[0m\u001b[0;34m\u001b[0m\u001b[0m\n",
            "\u001b[0;32m/usr/local/lib/python3.6/dist-packages/tweepy/binder.py\u001b[0m in \u001b[0;36m_call\u001b[0;34m(*args, **kwargs)\u001b[0m\n\u001b[1;32m    248\u001b[0m             \u001b[0;32mreturn\u001b[0m \u001b[0mmethod\u001b[0m\u001b[0;34m\u001b[0m\u001b[0;34m\u001b[0m\u001b[0m\n\u001b[1;32m    249\u001b[0m         \u001b[0;32melse\u001b[0m\u001b[0;34m:\u001b[0m\u001b[0;34m\u001b[0m\u001b[0;34m\u001b[0m\u001b[0m\n\u001b[0;32m--> 250\u001b[0;31m             \u001b[0;32mreturn\u001b[0m \u001b[0mmethod\u001b[0m\u001b[0;34m.\u001b[0m\u001b[0mexecute\u001b[0m\u001b[0;34m(\u001b[0m\u001b[0;34m)\u001b[0m\u001b[0;34m\u001b[0m\u001b[0;34m\u001b[0m\u001b[0m\n\u001b[0m\u001b[1;32m    251\u001b[0m \u001b[0;34m\u001b[0m\u001b[0m\n\u001b[1;32m    252\u001b[0m     \u001b[0;31m# Set pagination mode\u001b[0m\u001b[0;34m\u001b[0m\u001b[0;34m\u001b[0m\u001b[0;34m\u001b[0m\u001b[0m\n",
            "\u001b[0;32m/usr/local/lib/python3.6/dist-packages/tweepy/binder.py\u001b[0m in \u001b[0;36mexecute\u001b[0;34m(self)\u001b[0m\n\u001b[1;32m    232\u001b[0m                     \u001b[0;32mraise\u001b[0m \u001b[0mRateLimitError\u001b[0m\u001b[0;34m(\u001b[0m\u001b[0merror_msg\u001b[0m\u001b[0;34m,\u001b[0m \u001b[0mresp\u001b[0m\u001b[0;34m)\u001b[0m\u001b[0;34m\u001b[0m\u001b[0;34m\u001b[0m\u001b[0m\n\u001b[1;32m    233\u001b[0m                 \u001b[0;32melse\u001b[0m\u001b[0;34m:\u001b[0m\u001b[0;34m\u001b[0m\u001b[0;34m\u001b[0m\u001b[0m\n\u001b[0;32m--> 234\u001b[0;31m                     \u001b[0;32mraise\u001b[0m \u001b[0mTweepError\u001b[0m\u001b[0;34m(\u001b[0m\u001b[0merror_msg\u001b[0m\u001b[0;34m,\u001b[0m \u001b[0mresp\u001b[0m\u001b[0;34m,\u001b[0m \u001b[0mapi_code\u001b[0m\u001b[0;34m=\u001b[0m\u001b[0mapi_error_code\u001b[0m\u001b[0;34m)\u001b[0m\u001b[0;34m\u001b[0m\u001b[0;34m\u001b[0m\u001b[0m\n\u001b[0m\u001b[1;32m    235\u001b[0m \u001b[0;34m\u001b[0m\u001b[0m\n\u001b[1;32m    236\u001b[0m             \u001b[0;31m# Parse the response payload\u001b[0m\u001b[0;34m\u001b[0m\u001b[0;34m\u001b[0m\u001b[0;34m\u001b[0m\u001b[0m\n",
            "\u001b[0;31mTweepError\u001b[0m: Not authorized."
          ]
        }
      ]
    },
    {
      "metadata": {
        "id": "f0jtzSP0tRoi",
        "colab_type": "code",
        "colab": {}
      },
      "cell_type": "code",
      "source": [
        "\n",
        "countries = ['Afghanistan', 'Albania', 'Algeria', 'American Samoa', 'Andorra', 'Angola', 'Anguilla', 'Antarctica', 'Antigua and Barbuda', 'Argentina', 'Armenia', 'Aruba', 'Australia', 'Austria', 'Azerbaijan', 'Bahamas', 'Bahrain', 'Bangladesh', 'Barbados', 'Belarus', 'Belgium', 'Belize', 'Benin', 'Bermuda', 'Bhutan', 'Bolivia', 'Bosnia and Herzegowina', 'Botswana', 'Bouvet Island', 'Brazil', 'British Indian Ocean Territory', 'Brunei Darussalam', 'Bulgaria', 'Burkina Faso', 'Burundi', 'Cambodia', 'Cameroon', 'Canada', 'Cape Verde', 'Cayman Islands', 'Central African Republic', 'Chad', 'Chile', 'China', 'Christmas Island', 'Cocos (Keeling) Islands', 'Colombia', 'Comoros', 'Congo', 'Congo, the Democratic Republic of the', 'Cook Islands', 'Costa Rica', \"Cote d'Ivoire\", 'Croatia (Hrvatska)', 'Cuba', 'Cyprus', 'Czech Republic', 'Denmark', 'Djibouti', 'Dominica', 'Dominican Republic', 'East Timor', 'Ecuador', 'Egypt', 'El Salvador', 'Equatorial Guinea', 'Eritrea', 'Estonia', 'Ethiopia', 'Falkland Islands (Malvinas)', 'Faroe Islands', 'Fiji', 'Finland', 'France', 'France Metropolitan', 'French Guiana', 'French Polynesia', 'French Southern Territories', 'Gabon', 'Gambia', 'Georgia', 'Germany', 'Ghana', 'Gibraltar', 'Greece', 'Greenland', 'Grenada', 'Guadeloupe', 'Guam', 'Guatemala', 'Guinea', 'Guinea-Bissau', 'Guyana', 'Haiti', 'Heard and Mc Donald Islands', 'Holy See (Vatican City State)', 'Honduras', 'Hong Kong', 'Hungary', 'Iceland', 'India', 'Indonesia', 'Iran (Islamic Republic of)', 'Iraq', 'Ireland', 'Israel', 'Italy', 'Jamaica', 'Japan', 'Jordan', 'Kazakhstan', 'Kenya', 'Kiribati', \"Korea, Democratic People's Republic of\", 'Korea, Republic of', 'Kuwait', 'Kyrgyzstan', \"Lao, People's Democratic Republic\", 'Latvia', 'Lebanon', 'Lesotho', 'Liberia', 'Libyan Arab Jamahiriya', 'Liechtenstein', 'Lithuania', 'Luxembourg', 'Macau', 'Macedonia, The Former Yugoslav Republic of', 'Madagascar', 'Malawi', 'Malaysia', 'Maldives', 'Mali', 'Malta', 'Marshall Islands', 'Martinique', 'Mauritania', 'Mauritius', 'Mayotte', 'Mexico', 'Micronesia, Federated States of', 'Moldova, Republic of', 'Monaco', 'Mongolia', 'Montserrat', 'Morocco', 'Mozambique', 'Myanmar', 'Namibia', 'Nauru', 'Nepal', 'Netherlands', 'Netherlands Antilles', 'New Caledonia', 'New Zealand', 'Nicaragua', 'Niger', 'Nigeria', 'Niue', 'Norfolk Island', 'Northern Mariana Islands', 'Norway', 'Oman', 'Pakistan', 'Palau', 'Panama', 'Papua New Guinea', 'Paraguay', 'Peru', 'Philippines', 'Pitcairn', 'Poland', 'Portugal', 'Puerto Rico', 'Qatar', 'Reunion', 'Romania', 'Russian Federation', 'Rwanda', 'Saint Kitts and Nevis', 'Saint Lucia', 'Saint Vincent and the Grenadines', 'Samoa', 'San Marino', 'Sao Tome and Principe', 'Saudi Arabia', 'Senegal', 'Seychelles', 'Sierra Leone', 'Singapore', 'Slovakia (Slovak Republic)', 'Slovenia', 'Solomon Islands', 'Somalia', 'South Africa', 'South Georgia and the South Sandwich Islands', 'Spain', 'Sri Lanka', 'St. Helena', 'St. Pierre and Miquelon', 'Sudan', 'Suriname', 'Svalbard and Jan Mayen Islands', 'Swaziland', 'Sweden', 'Switzerland', 'Syrian Arab Republic', 'Taiwan, Province of China', 'Tajikistan', 'Tanzania, United Republic of', 'Thailand', 'Togo', 'Tokelau', 'Tonga', 'Trinidad and Tobago', 'Tunisia', 'Turkey', 'Turkmenistan', 'Turks and Caicos Islands', 'Tuvalu', 'Uganda', 'Ukraine', 'United Arab Emirates', 'United Kingdom', 'United States', 'United States Minor Outlying Islands', 'Uruguay', 'Uzbekistan', 'Vanuatu', 'Venezuela', 'Vietnam', 'Virgin Islands (British)', 'Virgin Islands (U.S.)', 'Wallis and Futuna Islands', 'Western Sahara', 'Yemen', 'Yugoslavia', 'Zambia', 'Zimbabwe', 'Russia', 'America', 'USA', 'South Korea', 'North Korea', 'UK']"
      ],
      "execution_count": 0,
      "outputs": []
    },
    {
      "metadata": {
        "id": "TvWNTG3Qnnqg",
        "colab_type": "code",
        "outputId": "8adeae23-e2ff-4971-c47c-c0092164e973",
        "colab": {
          "base_uri": "https://localhost:8080/",
          "height": 478
        }
      },
      "cell_type": "code",
      "source": [
        "final = {}\n",
        "\n",
        "for delegate in delegates:\n",
        "  ct = {}\n",
        "  tmp = tweets[delegate]\n",
        "  for i in range(len(countries)):\n",
        "    for j in range(len(tmp)):\n",
        "      if countries[i] in tmp[j]:\n",
        "        if countries[i] not in ct:\n",
        "          ct[countries[i]] = 0\n",
        "        ct[countries[i]] += 1\n",
        "  final[delegate] = ct\n",
        "        \n",
        "for delegate in final:\n",
        "  print('Delegate Twitter Name: ', delegate)\n",
        "  print(\"Tweet Count: \", final[delegate])\n",
        "  print('==================================================================================================================')"
      ],
      "execution_count": 0,
      "outputs": [
        {
          "output_type": "stream",
          "text": [
            "Delegate Twitter Name:  mauriciomacri\n",
            "Tweet Count:  {'Albania': 1, 'Argentina': 16, 'China': 3, 'Colombia': 2, 'France': 1, 'India': 1, 'Nicaragua': 1, 'Paraguay': 2, 'Reunion': 1, 'America': 1, 'UK': 1}\n",
            "==================================================================================================================\n",
            "Delegate Twitter Name:  narendramodi\n",
            "Tweet Count:  {'Afghanistan': 1, 'India': 42, 'Vietnam': 1, 'UK': 1}\n",
            "==================================================================================================================\n",
            "Delegate Twitter Name:  PutinRF_Eng\n",
            "Tweet Count:  {'Algeria': 1, 'Angola': 1, 'Argentina': 1, 'Armenia': 2, 'Austria': 5, 'Azerbaijan': 1, 'Belarus': 2, 'Bolivia': 1, 'Bulgaria': 2, 'China': 5, 'Cuba': 1, 'Finland': 1, 'France': 2, 'Germany': 4, 'Greece': 1, 'India': 3, 'Israel': 1, 'Italy': 1, 'Japan': 1, 'Lebanon': 1, 'Mexico': 1, 'Qatar': 1, 'Rwanda': 1, 'South Africa': 2, 'Tajikistan': 1, 'Turkey': 2, 'Ukraine': 1, 'United States': 1, 'Zambia': 1, 'Russia': 36, 'America': 1, 'UK': 1}\n",
            "==================================================================================================================\n",
            "Delegate Twitter Name:  BarackObama\n",
            "Tweet Count:  {'Mali': 1, 'Mexico': 1, 'Puerto Rico': 1, 'Singapore': 1, 'America': 26, 'USA': 1, 'UK': 2}\n",
            "==================================================================================================================\n",
            "Delegate Twitter Name:  realDonaldTrump\n",
            "Tweet Count:  {'Canada': 2, 'China': 3, 'Egypt': 1, 'France': 1, 'Guam': 1, 'India': 1, 'Israel': 1, 'Japan': 2, 'Mexico': 1, 'Poland': 1, 'Puerto Rico': 3, 'United States': 6, 'Vietnam': 1, 'Russia': 3, 'America': 11, 'USA': 2, 'South Korea': 2, 'North Korea': 2}\n",
            "==================================================================================================================\n",
            "Delegate Twitter Name:  _Kim_Jongun\n",
            "Tweet Count:  {'China': 1, 'France': 1, 'Guam': 1, 'Japan': 1, 'Russia': 1, 'America': 16, 'South Korea': 13, 'North Korea': 37}\n",
            "==================================================================================================================\n",
            "Delegate Twitter Name:  David_Cameron\n",
            "Tweet Count:  {'Afghanistan': 1, 'Bangladesh': 1, 'China': 2, 'France': 1, 'India': 1, 'Iraq': 1, 'Ireland': 2, 'Israel': 1, 'Malaysia': 1, 'Mexico': 1, 'Rwanda': 2, 'Singapore': 1, 'Sudan': 1, 'Ukraine': 1, 'USA': 1, 'UK': 26}\n",
            "==================================================================================================================\n",
            "Delegate Twitter Name:  JustinTrudeau\n",
            "Tweet Count:  {'Armenia': 2, 'Canada': 48, 'France': 2, 'India': 1, 'Namibia': 2, 'Nepal': 1, 'Paraguay': 2, 'Spain': 1, 'UK': 2}\n",
            "==================================================================================================================\n"
          ],
          "name": "stdout"
        }
      ]
    },
    {
      "metadata": {
        "id": "sI3zIgex15fT",
        "colab_type": "code",
        "colab": {}
      },
      "cell_type": "code",
      "source": [
        ""
      ],
      "execution_count": 0,
      "outputs": []
    }
  ]
}