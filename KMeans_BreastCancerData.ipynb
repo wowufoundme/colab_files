{
  "nbformat": 4,
  "nbformat_minor": 0,
  "metadata": {
    "colab": {
      "name": "KMeans_BreastCancerData.ipynb",
      "version": "0.3.2",
      "provenance": [],
      "collapsed_sections": []
    },
    "kernelspec": {
      "name": "python3",
      "display_name": "Python 3"
    }
  },
  "cells": [
    {
      "cell_type": "markdown",
      "metadata": {
        "id": "view-in-github",
        "colab_type": "text"
      },
      "source": [
        "[View in Colaboratory](https://colab.research.google.com/github/wowufoundme/colab_files/blob/master/KMeans_BreastCancerData.ipynb)"
      ]
    },
    {
      "metadata": {
        "id": "vCtj6phqK8iQ",
        "colab_type": "code",
        "colab": {}
      },
      "cell_type": "code",
      "source": [
        "# Import libraries\n",
        "import numpy as np\n",
        "import matplotlib.pyplot as plt\n",
        "import pandas as pd"
      ],
      "execution_count": 0,
      "outputs": []
    },
    {
      "metadata": {
        "id": "P3XzdEEqLFry",
        "colab_type": "code",
        "colab": {}
      },
      "cell_type": "code",
      "source": [
        "# Creating file buffers and lists\n",
        "df = pd.read_csv('https://raw.githubusercontent.com/wowufoundme/data_sets_practice/master/temp.csv')\n",
        "X = df.astype(float).values.tolist()"
      ],
      "execution_count": 0,
      "outputs": []
    },
    {
      "metadata": {
        "id": "b0TqKY5ANmOR",
        "colab_type": "code",
        "colab": {
          "base_uri": "https://localhost:8080/",
          "height": 204
        },
        "outputId": "b3174cd7-ea1d-46bc-e578-68c63f2218d1"
      },
      "cell_type": "code",
      "source": [
        "# Checking if import successful\n",
        "df.head()"
      ],
      "execution_count": 3,
      "outputs": [
        {
          "output_type": "execute_result",
          "data": {
            "text/html": [
              "<div>\n",
              "<style scoped>\n",
              "    .dataframe tbody tr th:only-of-type {\n",
              "        vertical-align: middle;\n",
              "    }\n",
              "\n",
              "    .dataframe tbody tr th {\n",
              "        vertical-align: top;\n",
              "    }\n",
              "\n",
              "    .dataframe thead th {\n",
              "        text-align: right;\n",
              "    }\n",
              "</style>\n",
              "<table border=\"1\" class=\"dataframe\">\n",
              "  <thead>\n",
              "    <tr style=\"text-align: right;\">\n",
              "      <th></th>\n",
              "      <th>5</th>\n",
              "      <th>1</th>\n",
              "      <th>1.1</th>\n",
              "      <th>1.2</th>\n",
              "      <th>2</th>\n",
              "      <th>1.3</th>\n",
              "      <th>3</th>\n",
              "      <th>1.4</th>\n",
              "      <th>1.5</th>\n",
              "      <th>0</th>\n",
              "    </tr>\n",
              "  </thead>\n",
              "  <tbody>\n",
              "    <tr>\n",
              "      <th>0</th>\n",
              "      <td>5</td>\n",
              "      <td>4</td>\n",
              "      <td>4</td>\n",
              "      <td>5</td>\n",
              "      <td>7</td>\n",
              "      <td>10</td>\n",
              "      <td>3</td>\n",
              "      <td>2</td>\n",
              "      <td>1</td>\n",
              "      <td>0</td>\n",
              "    </tr>\n",
              "    <tr>\n",
              "      <th>1</th>\n",
              "      <td>3</td>\n",
              "      <td>1</td>\n",
              "      <td>1</td>\n",
              "      <td>1</td>\n",
              "      <td>2</td>\n",
              "      <td>2</td>\n",
              "      <td>3</td>\n",
              "      <td>1</td>\n",
              "      <td>1</td>\n",
              "      <td>0</td>\n",
              "    </tr>\n",
              "    <tr>\n",
              "      <th>2</th>\n",
              "      <td>6</td>\n",
              "      <td>8</td>\n",
              "      <td>8</td>\n",
              "      <td>1</td>\n",
              "      <td>3</td>\n",
              "      <td>4</td>\n",
              "      <td>3</td>\n",
              "      <td>7</td>\n",
              "      <td>1</td>\n",
              "      <td>0</td>\n",
              "    </tr>\n",
              "    <tr>\n",
              "      <th>3</th>\n",
              "      <td>4</td>\n",
              "      <td>1</td>\n",
              "      <td>1</td>\n",
              "      <td>3</td>\n",
              "      <td>2</td>\n",
              "      <td>1</td>\n",
              "      <td>3</td>\n",
              "      <td>1</td>\n",
              "      <td>1</td>\n",
              "      <td>0</td>\n",
              "    </tr>\n",
              "    <tr>\n",
              "      <th>4</th>\n",
              "      <td>8</td>\n",
              "      <td>10</td>\n",
              "      <td>10</td>\n",
              "      <td>8</td>\n",
              "      <td>7</td>\n",
              "      <td>10</td>\n",
              "      <td>9</td>\n",
              "      <td>7</td>\n",
              "      <td>1</td>\n",
              "      <td>1</td>\n",
              "    </tr>\n",
              "  </tbody>\n",
              "</table>\n",
              "</div>"
            ],
            "text/plain": [
              "   5   1  1.1  1.2  2  1.3  3  1.4  1.5  0\n",
              "0  5   4    4    5  7   10  3    2    1  0\n",
              "1  3   1    1    1  2    2  3    1    1  0\n",
              "2  6   8    8    1  3    4  3    7    1  0\n",
              "3  4   1    1    3  2    1  3    1    1  0\n",
              "4  8  10   10    8  7   10  9    7    1  1"
            ]
          },
          "metadata": {
            "tags": []
          },
          "execution_count": 3
        }
      ]
    },
    {
      "metadata": {
        "id": "VF2TodQhNpv1",
        "colab_type": "code",
        "colab": {}
      },
      "cell_type": "code",
      "source": [
        "# Defining variables and creating Test Data\n",
        "colors = 10 * [\"g\", \"r\", \"c\", \"b\", \"k\"]\n",
        "test_size = 0.2\n",
        "var = int((1 - test_size) * len(X))\n",
        "train_data = X[:var]\n",
        "test_data = X[var:]\n",
        "for i in range(len(train_data)):\n",
        "\ttrain_data[i] = train_data[i][:-1]\n",
        "train_data = np.array(train_data)"
      ],
      "execution_count": 0,
      "outputs": []
    },
    {
      "metadata": {
        "id": "5yA-HjwtOQ4u",
        "colab_type": "code",
        "colab": {}
      },
      "cell_type": "code",
      "source": [
        "# Class K_Means creates the means of the centroids in the function 'fit'\n",
        "class K_Means:\n",
        "\tdef __init__(self, k=2, tol=0.001, max_iter=300):\n",
        "\t\tself.k = k\n",
        "\t\tself.tol = tol\n",
        "\t\tself.max_iter = max_iter\n",
        "\n",
        "\tdef fit(self, data):\n",
        "\t\tself.centroids = {}\n",
        "\t\tfor i in range(self.k):\n",
        "\t\t\tself.centroids[i] = data[i]\n",
        "\n",
        "\t\tfor i in range(self.max_iter):\n",
        "\t\t\tself.classifications = {}\n",
        "\n",
        "\t\t\tfor i in range(self.k):\n",
        "\t\t\t\tself.classifications[i] = []\n",
        "\n",
        "\t\t\tfor featureset in data:\n",
        "\t\t\t\tdistances = [np.linalg.norm(featureset - self.centroids[centroid]) for centroid in\n",
        "\t\t\t\t             self.centroids]\n",
        "\t\t\t\tclassification = distances.index(min(distances))\n",
        "\n",
        "\t\t\t\tself.classifications[classification].append(featureset)\n",
        "\n",
        "\t\t\tprev_centroids = dict(self.centroids)\n",
        "\n",
        "\t\t\tfor classification in self.classifications:\n",
        "\t\t\t\tself.centroids[classification] = np.average(self.classifications[classification], axis=0)\n",
        "\n",
        "\t\t\toptimized = True\n",
        "\n",
        "\t\t\tfor c in self.centroids:\n",
        "\t\t\t\toriginal_centroid = prev_centroids[c]\n",
        "\t\t\t\tcurrent_centroid = self.centroids[c]\n",
        "\t\t\t\tif np.sum((current_centroid - original_centroid) / original_centroid * 100.0) > self.tol:\n",
        "\t\t\t\t\toptimized = False\n",
        "\t\t\tif optimized:\n",
        "\t\t\t\tbreak\n",
        "\n",
        "\tdef predict(self, data):\n",
        "\t\tdistances = [np.linalg.norm(data - self.centroids[centroid]) for centroid in self.centroids]\n",
        "\t\tclassification = distances.index(min(distances))\n",
        "\t\treturn classification"
      ],
      "execution_count": 0,
      "outputs": []
    },
    {
      "metadata": {
        "id": "tjsMK6BrOlLA",
        "colab_type": "code",
        "colab": {
          "base_uri": "https://localhost:8080/",
          "height": 51
        },
        "outputId": "35325734-1c88-4c91-9a56-427edf25cb9b"
      },
      "cell_type": "code",
      "source": [
        "# karr stores the values of k and acc stores the accuracy of the data\n",
        "karr = []\n",
        "acc = []\n",
        "for k in range(1,4):\n",
        "\tclf = K_Means(k)\n",
        "\tclf.fit(train_data)\n",
        "\tcorrect = 0\n",
        "\ttotal = 0\n",
        "\tfor row in test_data:\n",
        "\t\tvote  = clf.predict(np.array(row[:-1]))\n",
        "\t\tif vote == row[-1]:\n",
        "\t\t\tcorrect += 1\n",
        "\t\ttotal += 1\n",
        "\tkarr.append(k)\n",
        "\tacc.append(correct/total*100)\n",
        "print(karr)\n",
        "print(acc)"
      ],
      "execution_count": 6,
      "outputs": [
        {
          "output_type": "stream",
          "text": [
            "[1, 2, 3]\n",
            "[75.0, 74.28571428571429, 74.28571428571429]\n"
          ],
          "name": "stdout"
        }
      ]
    },
    {
      "metadata": {
        "id": "AfVMAoW7O1_1",
        "colab_type": "code",
        "colab": {
          "base_uri": "https://localhost:8080/",
          "height": 347
        },
        "outputId": "612fa09c-a299-416b-96c3-af6c8d7aad2b"
      },
      "cell_type": "code",
      "source": [
        "# Plotting k vs Accuracy on the graph\n",
        "plt.plot(karr, acc)\n",
        "plt.show()"
      ],
      "execution_count": 7,
      "outputs": [
        {
          "output_type": "display_data",
          "data": {
            "image/png": "[encoded data removed]",
            "text/plain": [
              "<matplotlib.figure.Figure at 0x7fb520e60e48>"
            ]
          },
          "metadata": {
            "tags": []
          }
        }
      ]
    },
    {
      "metadata": {
        "id": "kZsbVZafRvA8",
        "colab_type": "code",
        "colab": {}
      },
      "cell_type": "code",
      "source": [
        ""
      ],
      "execution_count": 0,
      "outputs": []
    }
  ]
}